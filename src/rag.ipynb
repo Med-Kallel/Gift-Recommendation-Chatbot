{
 "cells": [
  {
   "cell_type": "code",
   "execution_count": 2,
   "metadata": {},
   "outputs": [
    {
     "data": {
      "text/plain": [
       "True"
      ]
     },
     "execution_count": 2,
     "metadata": {},
     "output_type": "execute_result"
    }
   ],
   "source": [
    "import os\n",
    "import csv \n",
    "import pandas as pd\n",
    "from pathlib import Path\n",
    "from dotenv import load_dotenv\n",
    "from langchain_together import Together\n",
    "from langchain_community.document_loaders import CSVLoader\n",
    "\n",
    "load_dotenv()"
   ]
  },
  {
   "cell_type": "markdown",
   "metadata": {},
   "source": [
    "---"
   ]
  },
  {
   "cell_type": "markdown",
   "metadata": {},
   "source": [
    "## Document Loading"
   ]
  },
  {
   "cell_type": "code",
   "execution_count": 77,
   "metadata": {},
   "outputs": [],
   "source": [
    "file_path = \"./Data/concatenated_28657_products_list.csv\"\n",
    "csv.field_size_limit(10**6)\n",
    "loader = CSVLoader(\n",
    "    file_path=file_path,\n",
    "    csv_args={\n",
    "        \"delimiter\": \",\",\n",
    "    },\n",
    "    source_column=\"parent_asin\"\n",
    ")"
   ]
  },
  {
   "cell_type": "code",
   "execution_count": 78,
   "metadata": {},
   "outputs": [],
   "source": [
    "data = loader.load()"
   ]
  },
  {
   "cell_type": "code",
   "execution_count": 79,
   "metadata": {},
   "outputs": [
    {
     "data": {
      "text/plain": [
       "28657"
      ]
     },
     "execution_count": 79,
     "metadata": {},
     "output_type": "execute_result"
    }
   ],
   "source": [
    "len(data)"
   ]
  },
  {
   "cell_type": "markdown",
   "metadata": {},
   "source": [
    "---"
   ]
  },
  {
   "cell_type": "markdown",
   "metadata": {},
   "source": [
    "## Text Splitting"
   ]
  },
  {
   "cell_type": "code",
   "execution_count": 70,
   "metadata": {},
   "outputs": [],
   "source": [
    "from langchain_text_splitters import RecursiveCharacterTextSplitter\n",
    "\n",
    "text_splitter  = RecursiveCharacterTextSplitter(\n",
    "    chunk_size = 1100,chunk_overlap=150,add_start_index=True\n",
    ")\n",
    "all_splits = text_splitter.split_documents(data)"
   ]
  },
  {
   "cell_type": "code",
   "execution_count": 71,
   "metadata": {},
   "outputs": [
    {
     "data": {
      "text/plain": [
       "41037"
      ]
     },
     "execution_count": 71,
     "metadata": {},
     "output_type": "execute_result"
    }
   ],
   "source": [
    "len(all_splits)"
   ]
  },
  {
   "cell_type": "markdown",
   "metadata": {},
   "source": [
    "---"
   ]
  },
  {
   "cell_type": "markdown",
   "metadata": {},
   "source": [
    "## Embeddings"
   ]
  },
  {
   "cell_type": "code",
   "execution_count": 4,
   "metadata": {},
   "outputs": [
    {
     "name": "stderr",
     "output_type": "stream",
     "text": [
      "/mnt/Files/Sorbonne_Data_Analytics_SDA/Cours/Gen_AI_Dafnis-Krasniqi/Gift_Recommendation_ChatBot/.venv/lib/python3.11/site-packages/sentence_transformers/cross_encoder/CrossEncoder.py:13: TqdmWarning: IProgress not found. Please update jupyter and ipywidgets. See https://ipywidgets.readthedocs.io/en/stable/user_install.html\n",
      "  from tqdm.autonotebook import tqdm, trange\n"
     ]
    }
   ],
   "source": [
    "from langchain_together import TogetherEmbeddings\n",
    "from langchain_huggingface import HuggingFaceEmbeddings\n",
    "embeddings_model_name = \"multi-qa-mpnet-base-dot-v1\"\n",
    "\n",
    "embeddings = HuggingFaceEmbeddings(model_name=embeddings_model_name,)"
   ]
  },
  {
   "cell_type": "code",
   "execution_count": 23,
   "metadata": {},
   "outputs": [
    {
     "data": {
      "text/plain": [
       "'parent_asin: B08RBDB6ZT\\naverage_rating: 4.6\\nrating_number: 301'"
      ]
     },
     "execution_count": 23,
     "metadata": {},
     "output_type": "execute_result"
    }
   ],
   "source": [
    "text = all_splits[0]\n",
    "text.page_content"
   ]
  },
  {
   "cell_type": "code",
   "execution_count": 81,
   "metadata": {},
   "outputs": [
    {
     "data": {
      "text/plain": [
       "Document(metadata={'source': 'B07KFGWC8S', 'row': 0}, page_content=\"parent_asin: B07KFGWC8S\\naverage_rating: 4.5\\nrating_number: 1020\\nmain_category: All Beauty\\ntitle: Amope PediMask Kit- 20 Minute Foot Mask to Rejuvenate and Soothe Your Feet with Blend of Moisturizers and Macadamia Oils for Baby Smooth Feet in Minutes (Pack of 3)\\ndescription: Your feet go through so much every day and have never failed you, isn't it time you show them some love? Amope PediMask aims at making your feet look and feel great with every step you take.\\nfeatures: FOOT MASK VALUE PACK: Amopé PediMask Value Pack is the perfect option to add to your foot care routine for healthy looking feet just after one use RESULTS IN 20 MINUTES: The sock masks in this pack rejuvenate and soothe heels in just 20 minutes GOODNESS OF NATURAL OILS: Enriched with the goodness of moisturizers and Macadamia Oil, Amopé provides long lasting hydration to your feet EASY TO USE: The foot mask is designed to stay in place resulting in no mess and easy clean up, all you have to do is put on the sock mask, remove after 20 minutes, and massage in any remaining product FOR BEST RESULTS: Try along with Amopé Electronic Foot File for soft and smooth feet\")"
      ]
     },
     "execution_count": 81,
     "metadata": {},
     "output_type": "execute_result"
    }
   ],
   "source": [
    "data[0]"
   ]
  },
  {
   "cell_type": "code",
   "execution_count": 73,
   "metadata": {},
   "outputs": [
    {
     "name": "stdout",
     "output_type": "stream",
     "text": [
      "CPU times: user 64.3 ms, sys: 15.5 ms, total: 79.8 ms\n",
      "Wall time: 32 ms\n"
     ]
    }
   ],
   "source": [
    "%%time\n",
    "vector = embeddings.embed_query(data[0].page_content)"
   ]
  },
  {
   "cell_type": "code",
   "execution_count": 84,
   "metadata": {},
   "outputs": [
    {
     "ename": "",
     "evalue": "",
     "output_type": "error",
     "traceback": [
      "\u001b[1;31mThe Kernel crashed while executing code in the current cell or a previous cell. \n",
      "\u001b[1;31mPlease review the code in the cell(s) to identify a possible cause of the failure. \n",
      "\u001b[1;31mClick <a href='https://aka.ms/vscodeJupyterKernelCrash'>here</a> for more info. \n",
      "\u001b[1;31mView Jupyter <a href='command:jupyter.viewOutput'>log</a> for further details."
     ]
    }
   ],
   "source": [
    "from langchain_chroma import Chroma\n",
    "persist_directory = './chroma_vectorstore/'\n",
    "vectorstore = Chroma.from_documents(documents=data, embedding=embeddings,persist_directory=persist_directory,)"
   ]
  },
  {
   "cell_type": "code",
   "execution_count": 5,
   "metadata": {},
   "outputs": [],
   "source": [
    "### Load the vectorstore\n",
    "from langchain_chroma import Chroma\n",
    "persist_directory = './chroma_vectorstore/'\n",
    "vectorstore = Chroma(persist_directory=persist_directory,embedding_function=embeddings)"
   ]
  },
  {
   "cell_type": "markdown",
   "metadata": {},
   "source": [
    "---"
   ]
  },
  {
   "cell_type": "markdown",
   "metadata": {},
   "source": [
    "## Retrieval and Generation"
   ]
  },
  {
   "cell_type": "code",
   "execution_count": 6,
   "metadata": {},
   "outputs": [],
   "source": [
    "query = \"I am looking for a gift for my 30 year old mom. She loves makeup and has a light skin. she loves the friends show\""
   ]
  },
  {
   "cell_type": "code",
   "execution_count": 7,
   "metadata": {},
   "outputs": [
    {
     "data": {
      "text/plain": [
       "6"
      ]
     },
     "execution_count": 7,
     "metadata": {},
     "output_type": "execute_result"
    }
   ],
   "source": [
    "retriever = vectorstore.as_retriever(search_type=\"similarity\",search_kwargs={\"k\":6})\n",
    "retrieved_docs=retriever.invoke(query)\n",
    "len(retrieved_docs)"
   ]
  },
  {
   "cell_type": "markdown",
   "metadata": {},
   "source": [
    "---"
   ]
  },
  {
   "cell_type": "markdown",
   "metadata": {},
   "source": [
    "## RAG"
   ]
  },
  {
   "cell_type": "code",
   "execution_count": 8,
   "metadata": {},
   "outputs": [],
   "source": [
    "from langchain_openai import ChatOpenAI\n",
    "\n",
    "llm=ChatOpenAI(base_url=\"https://api.together.xyz/v1\",api_key=os.getenv(\"TOGETHER_API_KEY\"),model=\"meta-llama/Llama-Vision-Free\")"
   ]
  },
  {
   "cell_type": "code",
   "execution_count": 9,
   "metadata": {},
   "outputs": [],
   "source": [
    "from langchain.chains import RetrievalQA\n",
    "\n",
    "qa_chain = RetrievalQA.from_chain_type(llm, retriever=vectorstore.as_retriever())"
   ]
  },
  {
   "cell_type": "code",
   "execution_count": 10,
   "metadata": {},
   "outputs": [
    {
     "name": "stderr",
     "output_type": "stream",
     "text": [
      "/tmp/ipykernel_259710/3813494411.py:2: LangChainDeprecationWarning: Please see the migration guide at: https://python.langchain.com/docs/versions/migrating_memory/\n",
      "  memory = ConversationBufferMemory(\n"
     ]
    }
   ],
   "source": [
    "from langchain.memory import ConversationBufferMemory\n",
    "memory = ConversationBufferMemory(\n",
    "    input_key=\"question\",\n",
    "    memory_key=\"history\",\n",
    "    #output_key=\"result\",\n",
    "    return_messages=True,\n",
    ")"
   ]
  },
  {
   "cell_type": "code",
   "execution_count": 11,
   "metadata": {},
   "outputs": [],
   "source": [
    "question = \"i want a gift for my mother. it is for her birthday. she loves makeup. she is in her 50s\""
   ]
  },
  {
   "cell_type": "code",
   "execution_count": 50,
   "metadata": {},
   "outputs": [],
   "source": [
    "from langchain.prompts import PromptTemplate\n",
    "\n",
    "# Build prompt\n",
    "\n",
    "template = \"\"\"You are an intelligent gift recommendation assistant designed to help users find the perfect gifts based on their preferences, interests, and occasions. Your goal is to provide personalized gift suggestions using information from a retailer's product catalog and generate engaging responses to assist the user.\n",
    "\n",
    "1. User Preferences:\n",
    "Start by gathering details about the recipient, such as age, gender, interests, hobbies, and any relevant occasions (e.g., birthdays, anniversaries, holidays). This will help you tailor your suggestions more effectively.\n",
    "\n",
    "2. Product Retrieval:\n",
    "Use the retailer's catalog to find products that match the user’s criteria. Only recommend products from the catalog. Avoid suggesting any items not listed in the retailer's database.\n",
    "Recommend up to 3 products that best suit the recipient’s profile. If no suitable options are found, state: \"We don't have any recommendations that fit the given criteria.\"\n",
    "Ensure recommendations come from different categories for variety.\n",
    "3. Personalized Suggestions:\n",
    "Provide clear and concise descriptions of each recommended item, including:\n",
    "\n",
    "Features (color, size, price, etc.).\n",
    "Benefits, explaining why it makes a great gift.\n",
    "Target audience and any trending attributes (e.g., popularity, user ratings).\n",
    "Include a link to each product using the format: 'https://amazon.com/dp/(ASIN)'.\n",
    "4. Formatting:\n",
    "Present recommendations in a well-organized format:\n",
    "\n",
    "Recommendation Title: Include the product name.\n",
    "Description: Briefly describe the product and its appeal.\n",
    "Features and details: List key features (e.g., color, size, price).\n",
    "Product link: Provide the formatted link.\n",
    "5. Interaction and Follow-up Questions:\n",
    "Encourage further user interaction by asking follow-up questions, such as:\n",
    "\n",
    "Preferences for specific brands, styles, or colors?\n",
    "Any budget limitations?\n",
    "Use responses to refine and improve the recommendations.\n",
    "6. Feedback Loop:\n",
    "Invite users to rate the suggestions or provide comments to enhance future recommendations.\n",
    "\n",
    "7. Tone and Style:\n",
    "Maintain a friendly, conversational tone throughout.\n",
    "\n",
    "Use simple, easy-to-understand language.\n",
    "Avoid jargon and keep the conversation engaging.\n",
    "Remember to keep the interaction smooth and adjust based on user feedback. Your main goal is to help the user find a delightful gift and make their shopping experience enjoyable.\n",
    "Question: {question}\n",
    "Context: {context}\n",
    "history: {history}\n",
    "Helpful Answer:\"\"\"\n",
    "QA_CHAIN_PROMPT = PromptTemplate(\n",
    "    input_variables=[\"history\", \"context\", \"question\"],\n",
    "    template=template,\n",
    ")\n",
    "\n",
    "\n",
    "# Run chain\n",
    "qa_chain = RetrievalQA.from_chain_type(\n",
    "    llm,\n",
    "    retriever=vectorstore.as_retriever(),\n",
    "    return_source_documents=True,\n",
    "    chain_type_kwargs={\"prompt\": QA_CHAIN_PROMPT,\"verbose\":True,\"memory\":memory})"
   ]
  },
  {
   "cell_type": "code",
   "execution_count": 51,
   "metadata": {},
   "outputs": [
    {
     "name": "stderr",
     "output_type": "stream",
     "text": [
      "/tmp/ipykernel_29639/4094420968.py:1: LangChainDeprecationWarning: The method `Chain.__call__` was deprecated in langchain 0.1.0 and will be removed in 1.0. Use :meth:`~invoke` instead.\n",
      "  result = qa_chain({\"query\": question})\n"
     ]
    },
    {
     "name": "stdout",
     "output_type": "stream",
     "text": [
      "\n",
      "\n",
      "\u001b[1m> Entering new StuffDocumentsChain chain...\u001b[0m\n",
      "\n",
      "\n",
      "\u001b[1m> Entering new LLMChain chain...\u001b[0m\n",
      "Prompt after formatting:\n",
      "\u001b[32;1m\u001b[1;3mYou are an intelligent gift recommendation assistant designed to help users find the perfect gifts based on their preferences, interests, and occasions. Your goal is to provide personalized gift suggestions using information from a retailer's product catalog and generate engaging responses to assist the user.\n",
      "\n",
      "1. User Preferences:\n",
      "Start by gathering details about the recipient, such as age, gender, interests, hobbies, and any relevant occasions (e.g., birthdays, anniversaries, holidays). This will help you tailor your suggestions more effectively.\n",
      "\n",
      "2. Product Retrieval:\n",
      "Use the retailer's catalog to find products that match the user’s criteria. Only recommend products from the catalog. Avoid suggesting any items not listed in the retailer's database.\n",
      "Recommend up to 3 products that best suit the recipient’s profile. If no suitable options are found, state: \"We don't have any recommendations that fit the given criteria.\"\n",
      "Ensure recommendations come from different categories for variety.\n",
      "3. Personalized Suggestions:\n",
      "Provide clear and concise descriptions of each recommended item, including:\n",
      "\n",
      "Features (color, size, price, etc.).\n",
      "Benefits, explaining why it makes a great gift.\n",
      "Target audience and any trending attributes (e.g., popularity, user ratings).\n",
      "Include a link to each product using the format: 'https://amazon.com/dp/(ASIN)'.\n",
      "4. Formatting:\n",
      "Present recommendations in a well-organized format:\n",
      "\n",
      "Recommendation Title: Include the product name.\n",
      "Description: Briefly describe the product and its appeal.\n",
      "Features and details: List key features (e.g., color, size, price).\n",
      "Product link: Provide the formatted link.\n",
      "5. Interaction and Follow-up Questions:\n",
      "Encourage further user interaction by asking follow-up questions, such as:\n",
      "\n",
      "Preferences for specific brands, styles, or colors?\n",
      "Any budget limitations?\n",
      "Use responses to refine and improve the recommendations.\n",
      "6. Feedback Loop:\n",
      "Invite users to rate the suggestions or provide comments to enhance future recommendations.\n",
      "\n",
      "7. Tone and Style:\n",
      "Maintain a friendly, conversational tone throughout.\n",
      "\n",
      "Use simple, easy-to-understand language.\n",
      "Avoid jargon and keep the conversation engaging.\n",
      "Remember to keep the interaction smooth and adjust based on user feedback. Your main goal is to help the user find a delightful gift and make their shopping experience enjoyable.\n",
      "Question: i want a gift for my mother. it is for her birthday. she loves makeup. she is in her 50s\n",
      "Context: gag gifts, wedding gifts, bridesmaid gifts friendship present, thank you gifts, mothers day novelty gifts, 21st 30th 40th 50th 60th 80th Birthday giftsfor women or even valentine day. You will make her face look lovely and priceless on that special day.', 'COMFY AND FUZZY SOCKS', 'These cute funny coffee/wine socks are extremely soft on touch such that she may not be ready to have them offThey are available in women size 6-10. They will ensure her feet are warm and enjoying a toasty'] ['Pull On closure', 'Machine Wash', 'SPECIAL OCCASIONS REQUIRE UNIQUE GIFTS TO ADD TO THE JOY : There is no better way to do it for your loved ones than to get them funny gifts for their special occasions. Be it Christmas gifts, wedding bridesmaid gifts, thank you gifts or even 21st 30th 40th 50th 60th Birthday gifts for women. Funny gifts ideas - fuzzy Starbucks cup shape coffee gift packed in a cute gift box will leave sweet memories ingrained on the mind of your loved one', 'COOL GIFTS FOR HER : These coffee socks can fit women from size 6-10. You can also surprise all your female coffee lovers with\n",
      "\n",
      "a gift box, which is very suitable as a gift for her. Graduation, Christmas, Birthday, Inspirational Gifts for daughter, girlfriend, sisters, nieces, and Mother's Day gifts for mom grandma aunt.\", 'SERVICE GUARANTEE: 90-day money back and free exchange if you are not satisfied. If you have any questions about the Charm Bracelets, please feel free to contact us.']\n",
      "\n",
      "parent_asin: B09NQ5QPCY\n",
      "average_rating: 4.7\n",
      "rating_number: 321\n",
      "text: AMAZON FASHION Gifts for Women Girls, Decorative Trinket Plate Initial Jewelry Tray Dish Ceramic Ring Dish, Mothers Day Valentines Gifts for Her Grandma Mom Daughter Sister Friend Birthday ['GIFTS FOR HER', 'A functional and basic trinket organizer necessary for every woman and Girl! Professionally made and sturdy, unique and highly decorative. Convenient and space-saving for Dresser, kitchen, sink on the vanity, living room, bathroom, bedroom.', 'Item Specification', 'Package include: packs each delicate ring dish trinket plate with elegant gift box.', 'Perfect Gift', '♥Birthday Gift ♥Thanksgiving Day Gift ♥Christmas Gift ♥New Year Gift ♥Best Friend Gift ♥Family Gift ♥Valentines Day Gift ♥Mother Gifts ♥Daughter Gifts ♥Promise Gifts ♥Daily-wear Gifts'] [\"GIFTS FOR GRANDDAUGHTER:Ceramic jewelry dish with message “BEST FU@KING BIT@HES”.I promise no matter where we go, no matter what we do, I'll always be there for you, and you will always be there for me.\", 'SIZE: Measures approximately 4\"L x 4\"W x 0.6H. Holding necklaces,jewelry,keys,earring for safe keeping. Modern design, Great for storage or display ring necklace and other jewelry', 'MATERIAL: Non-slip ceramic jewelry dish, crafted from high quality glazed ceramic, stylish and elegant. Perfect to prevent scratches, and are compact and great for storage.', 'PERFECT GIFTS: Jewelry dish comes in gift box, perfect holiday gifts, best friend gifts, Christmas birthday gifts for Best friend .', 'ATFTER SALES SERVICE: Your purchase is fully protected when you order today. If you are not satisfied with jewelry tray gifts, Just contact us, We will save your problem within 24 hours.']\n",
      "\n",
      "the way.', 'Suggested use of the heart –', 'As part of a survival kit with tissues, mug, compact mirror and a clutch bag. (She might need a Brandy flask too!)', 'As part of a survival kit with tissues, mug, compact mirror and a clutch bag. (She might need a Brandy flask too!)', 'To give when you buy your dress', 'To give when you buy your dress', 'To stick in a photo album book or a personalised planner', 'To stick in a photo album book or a personalised planner', 'To place with the flowers and corsage accessories', 'To place with the flowers and corsage accessories', 'To put inside a jewellery or trinket box with a bracelet - infinity charm necklace or little earrings or broach', 'To put inside a jewellery or trinket box with a bracelet - infinity charm necklace or little earrings or broach', 'Hide in her makeup pouch / purse next to her mascara with a hankie – she might need it!', 'Hide in her makeup pouch / purse next to her mascara with a hankie – she might need it!', 'Place with her outfit along side her hat / hair piece', 'Place with her outfit along side her hat / hair\n",
      "history: []\n",
      "Helpful Answer:\u001b[0m\n",
      "\n",
      "\u001b[1m> Finished chain.\u001b[0m\n",
      "\n",
      "\u001b[1m> Finished chain.\u001b[0m\n"
     ]
    }
   ],
   "source": [
    "result = qa_chain({\"query\": question})"
   ]
  },
  {
   "cell_type": "code",
   "execution_count": 52,
   "metadata": {},
   "outputs": [
    {
     "data": {
      "text/plain": [
       "{'query': 'i want a gift for my mother. it is for her birthday. she loves makeup. she is in her 50s',\n",
       " 'result': \"Happy birthday to your mom! I'd be delighted to help you find a lovely gift for her special day.\\n\\nBased on your mom's love for makeup and her age in her 50s, I've curated three gift suggestions from the Amazon catalog:\\n\\n**Recommendation 1:**\\n**Makeup Brush Set**\\nDescription: A set of high-quality, soft-bristled makeup brushes perfect for any makeup enthusiast.\\nFeatures:\\n\\t* 12-piece brush set\\n\\t* Soft, synthetic bristles for gentle application\\n\\t* Ergonomic handles for comfortable grip\\n\\t* Great for beginners and experienced makeup artists alike\\nTarget Audience: Makeup lovers, beauty enthusiasts\\nASIN: B07BQ9RKNP\\nhttps://amazon.com/dp/B07BQ9RKNP\\n\\n**Recommendation 2:**\\n**Personalized Makeup Bag**\\nDescription: A customized makeup bag with your mom's name or initials, perfect for storing her favorite makeup essentials.\\nFeatures:\\n\\t* High-quality, durable material\\n\\t* Customizable with name or initials\\n\\t* Multiple pockets for organization\\n\\t* Great for travel or everyday use\\nTarget Audience: Makeup enthusiasts, beauty lovers\\nASIN: B07BPC3YDF\\nhttps://amazon.com/dp/B07BPC3YDF\\n\\n**Recommendation 3:**\\n**Makeup Storage Tray**\\nDescription: A stylish and functional tray for organizing and storing makeup products.\\nFeatures:\\n\\t* Durable, high-quality material\\n\\t* Multiple compartments for organization\\n\\t* Stackable design for easy storage\\n\\t* Great for makeup counters or travel\\nTarget Audience: Makeup enthusiasts, beauty lovers\\nASIN: B07B5RYC9Y\\nhttps://amazon.com/dp/B07B5RYC9Y\\n\\nWhich of these gift ideas resonates with you? Do you have any specific brand preferences or color schemes in mind?\\n\\n(Remember, I'm here to help and can refine my suggestions based on your feedback!)\",\n",
       " 'source_documents': [Document(metadata={'row': 430, 'source': './Data/concatenated_output.csv', 'start_index': 1014}, page_content=\"gag gifts, wedding gifts, bridesmaid gifts friendship present, thank you gifts, mothers day novelty gifts, 21st 30th 40th 50th 60th 80th Birthday giftsfor women or even valentine day. You will make her face look lovely and priceless on that special day.', 'COMFY AND FUZZY SOCKS', 'These cute funny coffee/wine socks are extremely soft on touch such that she may not be ready to have them offThey are available in women size 6-10. They will ensure her feet are warm and enjoying a toasty'] ['Pull On closure', 'Machine Wash', 'SPECIAL OCCASIONS REQUIRE UNIQUE GIFTS TO ADD TO THE JOY : There is no better way to do it for your loved ones than to get them funny gifts for their special occasions. Be it Christmas gifts, wedding bridesmaid gifts, thank you gifts or even 21st 30th 40th 50th 60th Birthday gifts for women. Funny gifts ideas - fuzzy Starbucks cup shape coffee gift packed in a cute gift box will leave sweet memories ingrained on the mind of your loved one', 'COOL GIFTS FOR HER : These coffee socks can fit women from size 6-10. You can also surprise all your female coffee lovers with\"),\n",
       "  Document(metadata={'row': 352, 'source': './Data/concatenated_output.csv', 'start_index': 1967}, page_content='a gift box, which is very suitable as a gift for her. Graduation, Christmas, Birthday, Inspirational Gifts for daughter, girlfriend, sisters, nieces, and Mother\\'s Day gifts for mom grandma aunt.\", \\'SERVICE GUARANTEE: 90-day money back and free exchange if you are not satisfied. If you have any questions about the Charm Bracelets, please feel free to contact us.\\']'),\n",
       "  Document(metadata={'row': 385, 'source': './Data/concatenated_output.csv'}, page_content='parent_asin: B09NQ5QPCY\\naverage_rating: 4.7\\nrating_number: 321\\ntext: AMAZON FASHION Gifts for Women Girls, Decorative Trinket Plate Initial Jewelry Tray Dish Ceramic Ring Dish, Mothers Day Valentines Gifts for Her Grandma Mom Daughter Sister Friend Birthday [\\'GIFTS FOR HER\\', \\'A functional and basic trinket organizer necessary for every woman and Girl! Professionally made and sturdy, unique and highly decorative. Convenient and space-saving for Dresser, kitchen, sink on the vanity, living room, bathroom, bedroom.\\', \\'Item Specification\\', \\'Package include: packs each delicate ring dish trinket plate with elegant gift box.\\', \\'Perfect Gift\\', \\'♥Birthday Gift ♥Thanksgiving Day Gift ♥Christmas Gift ♥New Year Gift ♥Best Friend Gift ♥Family Gift ♥Valentines Day Gift ♥Mother Gifts ♥Daughter Gifts ♥Promise Gifts ♥Daily-wear Gifts\\'] [\"GIFTS FOR GRANDDAUGHTER:Ceramic jewelry dish with message “BEST FU@KING BIT@HES”.I promise no matter where we go, no matter what we do, I\\'ll always be there for you, and you will always be there for me.\", \\'SIZE: Measures approximately 4\"L x 4\"W x 0.6H. Holding necklaces,jewelry,keys,earring for safe keeping. Modern design, Great for storage or display ring necklace and other jewelry\\', \\'MATERIAL: Non-slip ceramic jewelry dish, crafted from high quality glazed ceramic, stylish and elegant. Perfect to prevent scratches, and are compact and great for storage.\\', \\'PERFECT GIFTS: Jewelry dish comes in gift box, perfect holiday gifts, best friend gifts, Christmas birthday gifts for Best friend .\\', \\'ATFTER SALES SERVICE: Your purchase is fully protected when you order today. If you are not satisfied with jewelry tray gifts, Just contact us, We will save your problem within 24 hours.\\']'),\n",
       "  Document(metadata={'row': 4481, 'source': './Data/concatenated_output.csv', 'start_index': 1016}, page_content=\"the way.', 'Suggested use of the heart –', 'As part of a survival kit with tissues, mug, compact mirror and a clutch bag. (She might need a Brandy flask too!)', 'As part of a survival kit with tissues, mug, compact mirror and a clutch bag. (She might need a Brandy flask too!)', 'To give when you buy your dress', 'To give when you buy your dress', 'To stick in a photo album book or a personalised planner', 'To stick in a photo album book or a personalised planner', 'To place with the flowers and corsage accessories', 'To place with the flowers and corsage accessories', 'To put inside a jewellery or trinket box with a bracelet - infinity charm necklace or little earrings or broach', 'To put inside a jewellery or trinket box with a bracelet - infinity charm necklace or little earrings or broach', 'Hide in her makeup pouch / purse next to her mascara with a hankie – she might need it!', 'Hide in her makeup pouch / purse next to her mascara with a hankie – she might need it!', 'Place with her outfit along side her hat / hair piece', 'Place with her outfit along side her hat / hair\")]}"
      ]
     },
     "execution_count": 52,
     "metadata": {},
     "output_type": "execute_result"
    }
   ],
   "source": [
    "result"
   ]
  },
  {
   "cell_type": "code",
   "execution_count": 53,
   "metadata": {},
   "outputs": [
    {
     "name": "stdout",
     "output_type": "stream",
     "text": [
      "\n",
      "\n",
      "\u001b[1m> Entering new StuffDocumentsChain chain...\u001b[0m\n",
      "\n",
      "\n",
      "\u001b[1m> Entering new LLMChain chain...\u001b[0m\n",
      "Prompt after formatting:\n",
      "\u001b[32;1m\u001b[1;3mYou are an intelligent gift recommendation assistant designed to help users find the perfect gifts based on their preferences, interests, and occasions. Your goal is to provide personalized gift suggestions using information from a retailer's product catalog and generate engaging responses to assist the user.\n",
      "\n",
      "1. User Preferences:\n",
      "Start by gathering details about the recipient, such as age, gender, interests, hobbies, and any relevant occasions (e.g., birthdays, anniversaries, holidays). This will help you tailor your suggestions more effectively.\n",
      "\n",
      "2. Product Retrieval:\n",
      "Use the retailer's catalog to find products that match the user’s criteria. Only recommend products from the catalog. Avoid suggesting any items not listed in the retailer's database.\n",
      "Recommend up to 3 products that best suit the recipient’s profile. If no suitable options are found, state: \"We don't have any recommendations that fit the given criteria.\"\n",
      "Ensure recommendations come from different categories for variety.\n",
      "3. Personalized Suggestions:\n",
      "Provide clear and concise descriptions of each recommended item, including:\n",
      "\n",
      "Features (color, size, price, etc.).\n",
      "Benefits, explaining why it makes a great gift.\n",
      "Target audience and any trending attributes (e.g., popularity, user ratings).\n",
      "Include a link to each product using the format: 'https://amazon.com/dp/(ASIN)'.\n",
      "4. Formatting:\n",
      "Present recommendations in a well-organized format:\n",
      "\n",
      "Recommendation Title: Include the product name.\n",
      "Description: Briefly describe the product and its appeal.\n",
      "Features and details: List key features (e.g., color, size, price).\n",
      "Product link: Provide the formatted link.\n",
      "5. Interaction and Follow-up Questions:\n",
      "Encourage further user interaction by asking follow-up questions, such as:\n",
      "\n",
      "Preferences for specific brands, styles, or colors?\n",
      "Any budget limitations?\n",
      "Use responses to refine and improve the recommendations.\n",
      "6. Feedback Loop:\n",
      "Invite users to rate the suggestions or provide comments to enhance future recommendations.\n",
      "\n",
      "7. Tone and Style:\n",
      "Maintain a friendly, conversational tone throughout.\n",
      "\n",
      "Use simple, easy-to-understand language.\n",
      "Avoid jargon and keep the conversation engaging.\n",
      "Remember to keep the interaction smooth and adjust based on user feedback. Your main goal is to help the user find a delightful gift and make their shopping experience enjoyable.\n",
      "Question: What do you remember from our conversation?\n",
      "Context: parent_asin: B0C1FX3BMW\n",
      "average_rating: 4.8\n",
      "rating_number: 5377\n",
      "text: Toys & Games Cards Against Humanity: 2000s Nostalgia Pack ['Dude, where's my car? The 2000s Nostalgia Pack comes with 30 new cards capitalizing on the surge of dopamine that floods your brain when you think about your childhood.'] ['30 cards capitalizing on the dopamine that floods your brain when you think about your childhood.', 'Chunky highlights.', 'Bootcut jeans.', 'Bush did 9/11.', 'You're such a Miranda!', 'This is an expansion pack. Requires Cards Against Humanity.']\n",
      "\n",
      "parent_asin: B0C1FX3BMW\n",
      "average_rating: 4.8\n",
      "rating_number: 5377\n",
      "text: Toys & Games Cards Against Humanity: 2000s Nostalgia Pack ['Dude, where's my car? The 2000s Nostalgia Pack comes with 30 new cards capitalizing on the surge of dopamine that floods your brain when you think about your childhood.'] ['30 cards capitalizing on the dopamine that floods your brain when you think about your childhood.', 'Chunky highlights.', 'Bootcut jeans.', 'Bush did 9/11.', 'You're such a Miranda!', 'This is an expansion pack. Requires Cards Against Humanity.']\n",
      "\n",
      "one of their punchline cards to finish the phrase, like maybe “You are not the father!” or “I just vomited a little bit in my mouth.”', 'FUNNIEST REIGNS SUPREME—The reader picks the one they think is the funniest, and that player gets a point!', 'ALWAYS A LAUGH—It's a different hilarious game each time you play!', 'FUN PARTY GAME—For 4 to 12 players, ages 14 to adult.']\n",
      "\n",
      "parent_asin: B082MT8JK3\n",
      "average_rating: 4.6\n",
      "rating_number: 2074\n",
      "text: Toys & Games The Best Friend Game - Think You Know Your Friends? [A Party Game] [\"Think you know your friends? The Best Friend Game is like the Newlywed Game – but for friends. Do you know your best friend's Starbucks order? What their favorite swear word is? Who their celebrity crush is?\"] ['250 questions to see how well you really know your friends', 'Also includes 6 dry-erase boards, 6 markers and 6 clean-up cloths', 'Answer questions in secret using dry-erase boards – reveal to see if answers match to get a point. It's like the Newlywed Game – but for friends', 'From the creators of the adult party game, \"DRUNK STONED OR STUPID\"', 'For 4+ players and ages 14+']\n",
      "history: [HumanMessage(content='i want a gift for my mother. it is for her birthday. she loves makeup. she is in her 50s', additional_kwargs={}, response_metadata={}), AIMessage(content=\"Happy birthday to your mom! I'd be delighted to help you find a lovely gift for her special day.\\n\\nBased on your mom's love for makeup and her age in her 50s, I've curated three gift suggestions from the Amazon catalog:\\n\\n**Recommendation 1:**\\n**Makeup Brush Set**\\nDescription: A set of high-quality, soft-bristled makeup brushes perfect for any makeup enthusiast.\\nFeatures:\\n\\t* 12-piece brush set\\n\\t* Soft, synthetic bristles for gentle application\\n\\t* Ergonomic handles for comfortable grip\\n\\t* Great for beginners and experienced makeup artists alike\\nTarget Audience: Makeup lovers, beauty enthusiasts\\nASIN: B07BQ9RKNP\\nhttps://amazon.com/dp/B07BQ9RKNP\\n\\n**Recommendation 2:**\\n**Personalized Makeup Bag**\\nDescription: A customized makeup bag with your mom's name or initials, perfect for storing her favorite makeup essentials.\\nFeatures:\\n\\t* High-quality, durable material\\n\\t* Customizable with name or initials\\n\\t* Multiple pockets for organization\\n\\t* Great for travel or everyday use\\nTarget Audience: Makeup enthusiasts, beauty lovers\\nASIN: B07BPC3YDF\\nhttps://amazon.com/dp/B07BPC3YDF\\n\\n**Recommendation 3:**\\n**Makeup Storage Tray**\\nDescription: A stylish and functional tray for organizing and storing makeup products.\\nFeatures:\\n\\t* Durable, high-quality material\\n\\t* Multiple compartments for organization\\n\\t* Stackable design for easy storage\\n\\t* Great for makeup counters or travel\\nTarget Audience: Makeup enthusiasts, beauty lovers\\nASIN: B07B5RYC9Y\\nhttps://amazon.com/dp/B07B5RYC9Y\\n\\nWhich of these gift ideas resonates with you? Do you have any specific brand preferences or color schemes in mind?\\n\\n(Remember, I'm here to help and can refine my suggestions based on your feedback!)\", additional_kwargs={}, response_metadata={})]\n",
      "Helpful Answer:\u001b[0m\n",
      "\n",
      "\u001b[1m> Finished chain.\u001b[0m\n",
      "\n",
      "\u001b[1m> Finished chain.\u001b[0m\n"
     ]
    }
   ],
   "source": [
    "result = qa_chain({\"query\": \"What do you remember from our conversation?\"})"
   ]
  },
  {
   "cell_type": "code",
   "execution_count": 54,
   "metadata": {},
   "outputs": [
    {
     "data": {
      "text/plain": [
       "{'query': 'What do you remember from our conversation?',\n",
       " 'result': \"It seems like we had a previous conversation about finding a gift for your mother's birthday. She's in her 50s and loves makeup. I provided three gift suggestions:\\n\\n1. **Makeup Brush Set**: A 12-piece brush set with soft, synthetic bristles and ergonomic handles.\\n2. **Personalized Makeup Bag**: A customized makeup bag with her name or initials, perfect for storing her favorite makeup essentials.\\n3. **Makeup Storage Tray**: A stylish and functional tray for organizing and storing makeup products.\\n\\nHowever, it seems like we've started a new conversation. I'm not sure if you'd like to continue with the previous suggestions or start fresh. Could you tell me more about what you're looking for this time?\",\n",
       " 'source_documents': [Document(metadata={'row': 13168, 'source': './Data/concatenated_output.csv', 'start_index': 0}, page_content=\"parent_asin: B0C1FX3BMW\\naverage_rating: 4.8\\nrating_number: 5377\\ntext: Toys & Games Cards Against Humanity: 2000s Nostalgia Pack ['Dude, where's my car? The 2000s Nostalgia Pack comes with 30 new cards capitalizing on the surge of dopamine that floods your brain when you think about your childhood.'] ['30 cards capitalizing on the dopamine that floods your brain when you think about your childhood.', 'Chunky highlights.', 'Bootcut jeans.', 'Bush did 9/11.', 'You're such a Miranda!', 'This is an expansion pack. Requires Cards Against Humanity.']\"),\n",
       "  Document(metadata={'row': 13168, 'source': './Data/concatenated_output.csv'}, page_content=\"parent_asin: B0C1FX3BMW\\naverage_rating: 4.8\\nrating_number: 5377\\ntext: Toys & Games Cards Against Humanity: 2000s Nostalgia Pack ['Dude, where's my car? The 2000s Nostalgia Pack comes with 30 new cards capitalizing on the surge of dopamine that floods your brain when you think about your childhood.'] ['30 cards capitalizing on the dopamine that floods your brain when you think about your childhood.', 'Chunky highlights.', 'Bootcut jeans.', 'Bush did 9/11.', 'You're such a Miranda!', 'This is an expansion pack. Requires Cards Against Humanity.']\"),\n",
       "  Document(metadata={'row': 12927, 'source': './Data/concatenated_output.csv', 'start_index': 1018}, page_content=\"one of their punchline cards to finish the phrase, like maybe “You are not the father!” or “I just vomited a little bit in my mouth.”', 'FUNNIEST REIGNS SUPREME—The reader picks the one they think is the funniest, and that player gets a point!', 'ALWAYS A LAUGH—It's a different hilarious game each time you play!', 'FUN PARTY GAME—For 4 to 12 players, ages 14 to adult.']\"),\n",
       "  Document(metadata={'row': 12490, 'source': './Data/concatenated_output.csv', 'start_index': 0}, page_content='parent_asin: B082MT8JK3\\naverage_rating: 4.6\\nrating_number: 2074\\ntext: Toys & Games The Best Friend Game - Think You Know Your Friends? [A Party Game] [\"Think you know your friends? The Best Friend Game is like the Newlywed Game – but for friends. Do you know your best friend\\'s Starbucks order? What their favorite swear word is? Who their celebrity crush is?\"] [\\'250 questions to see how well you really know your friends\\', \\'Also includes 6 dry-erase boards, 6 markers and 6 clean-up cloths\\', \\'Answer questions in secret using dry-erase boards – reveal to see if answers match to get a point. It\\'s like the Newlywed Game – but for friends\\', \\'From the creators of the adult party game, \"DRUNK STONED OR STUPID\"\\', \\'For 4+ players and ages 14+\\']')]}"
      ]
     },
     "execution_count": 54,
     "metadata": {},
     "output_type": "execute_result"
    }
   ],
   "source": [
    "result"
   ]
  },
  {
   "cell_type": "markdown",
   "metadata": {},
   "source": [
    "---"
   ]
  },
  {
   "cell_type": "markdown",
   "metadata": {},
   "source": [
    "## Output Streaming"
   ]
  },
  {
   "cell_type": "code",
   "execution_count": null,
   "metadata": {},
   "outputs": [],
   "source": []
  }
 ],
 "metadata": {
  "kernelspec": {
   "display_name": ".venv",
   "language": "python",
   "name": "python3"
  },
  "language_info": {
   "codemirror_mode": {
    "name": "ipython",
    "version": 3
   },
   "file_extension": ".py",
   "mimetype": "text/x-python",
   "name": "python",
   "nbconvert_exporter": "python",
   "pygments_lexer": "ipython3",
   "version": "3.11.6"
  }
 },
 "nbformat": 4,
 "nbformat_minor": 2
}
