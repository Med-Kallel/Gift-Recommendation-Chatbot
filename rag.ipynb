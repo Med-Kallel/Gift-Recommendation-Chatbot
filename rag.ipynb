{
 "cells": [
  {
   "cell_type": "code",
   "execution_count": 7,
   "metadata": {},
   "outputs": [
    {
     "data": {
      "text/plain": [
       "True"
      ]
     },
     "execution_count": 7,
     "metadata": {},
     "output_type": "execute_result"
    }
   ],
   "source": [
    "import os\n",
    "import csv \n",
    "import json\n",
    "import pandas as pd\n",
    "from pathlib import Path\n",
    "from dotenv import load_dotenv\n",
    "from langchain_together import Together\n",
    "from langchain_community.document_loaders import CSVLoader\n",
    "\n",
    "load_dotenv()"
   ]
  },
  {
   "cell_type": "markdown",
   "metadata": {},
   "source": [
    "---"
   ]
  },
  {
   "cell_type": "markdown",
   "metadata": {},
   "source": [
    "## Document Loading"
   ]
  },
  {
   "cell_type": "code",
   "execution_count": 2,
   "metadata": {},
   "outputs": [],
   "source": [
    "file_path = \"./Data/beauty_test_amazon.csv\"\n",
    "csv.field_size_limit(10**6)\n",
    "loader = CSVLoader(\n",
    "    file_path=file_path,\n",
    "    csv_args={\n",
    "        \"delimiter\": \",\",\n",
    "    },\n",
    ")"
   ]
  },
  {
   "cell_type": "code",
   "execution_count": 3,
   "metadata": {},
   "outputs": [],
   "source": [
    "data = loader.load()"
   ]
  },
  {
   "cell_type": "code",
   "execution_count": 4,
   "metadata": {},
   "outputs": [
    {
     "data": {
      "text/plain": [
       "19162"
      ]
     },
     "execution_count": 4,
     "metadata": {},
     "output_type": "execute_result"
    }
   ],
   "source": [
    "len(data)"
   ]
  },
  {
   "cell_type": "markdown",
   "metadata": {},
   "source": [
    "---"
   ]
  },
  {
   "cell_type": "markdown",
   "metadata": {},
   "source": [
    "## Text Splitting"
   ]
  },
  {
   "cell_type": "code",
   "execution_count": 20,
   "metadata": {},
   "outputs": [],
   "source": [
    "from langchain_text_splitters import RecursiveCharacterTextSplitter\n",
    "\n",
    "text_splitter  = RecursiveCharacterTextSplitter(\n",
    "    chunk_size = 1500,chunk_overlap=100,add_start_index=True\n",
    ")\n",
    "all_splits = text_splitter.split_documents(data)"
   ]
  },
  {
   "cell_type": "code",
   "execution_count": 21,
   "metadata": {},
   "outputs": [
    {
     "data": {
      "text/plain": [
       "35769"
      ]
     },
     "execution_count": 21,
     "metadata": {},
     "output_type": "execute_result"
    }
   ],
   "source": [
    "len(all_splits)"
   ]
  },
  {
   "cell_type": "markdown",
   "metadata": {},
   "source": [
    "---"
   ]
  },
  {
   "cell_type": "markdown",
   "metadata": {},
   "source": [
    "## Embeddings"
   ]
  },
  {
   "cell_type": "code",
   "execution_count": 10,
   "metadata": {},
   "outputs": [
    {
     "name": "stderr",
     "output_type": "stream",
     "text": [
      "/mnt/Files/Sorbonne_Data_Analytics_SDA/Cours/Gen_AI_Dafnis-Krasniqi/Gift_Recommendation_ChatBot/.venv/lib/python3.11/site-packages/sentence_transformers/cross_encoder/CrossEncoder.py:13: TqdmWarning: IProgress not found. Please update jupyter and ipywidgets. See https://ipywidgets.readthedocs.io/en/stable/user_install.html\n",
      "  from tqdm.autonotebook import tqdm, trange\n"
     ]
    }
   ],
   "source": [
    "from langchain_together import TogetherEmbeddings\n",
    "from langchain_huggingface import HuggingFaceEmbeddings\n",
    "embeddings_model_name = \"sentence-transformers/all-MiniLM-L6-v2\"\n",
    "\n",
    "embeddings = HuggingFaceEmbeddings(model_name=embeddings_model_name)"
   ]
  },
  {
   "cell_type": "code",
   "execution_count": 13,
   "metadata": {},
   "outputs": [
    {
     "data": {
      "text/plain": [
       "'parent_asin: B07NGFDN6G\\naverage_rating: 4.3\\nmain_category: All Beauty\\ntitle: Precision Plunger Bars for Cartridge Grips – 93mm – Bag of 10 Plungers\\ncomment: Missing Review.......... It’s lost at Amazon Somewhere Where did my review go? I used your take a picture link and came back and my review was gone'"
      ]
     },
     "execution_count": 13,
     "metadata": {},
     "output_type": "execute_result"
    }
   ],
   "source": [
    "text = all_splits[0]\n",
    "text.page_content"
   ]
  },
  {
   "cell_type": "code",
   "execution_count": 15,
   "metadata": {},
   "outputs": [
    {
     "name": "stdout",
     "output_type": "stream",
     "text": [
      "CPU times: user 6.5 ms, sys: 775 μs, total: 7.27 ms\n",
      "Wall time: 6.63 ms\n"
     ]
    },
    {
     "data": {
      "text/plain": [
       "[-0.05531195551156998,\n",
       " 0.02398253045976162,\n",
       " -0.004908147733658552,\n",
       " 0.046251773834228516,\n",
       " -0.053958017379045486,\n",
       " -0.024386055767536163,\n",
       " 0.011282631196081638,\n",
       " 0.024630649015307426,\n",
       " -0.03853785619139671,\n",
       " -0.014416935853660107,\n",
       " -0.0008630677475593984,\n",
       " -0.002616514451801777,\n",
       " -0.0012694557663053274,\n",
       " 0.012978953309357166,\n",
       " -0.10460236668586731,\n",
       " -0.022581780329346657,\n",
       " -0.032895032316446304,\n",
       " -0.041898537427186966,\n",
       " -0.03291773051023483,\n",
       " -0.017513033002614975,\n",
       " -0.11115191876888275,\n",
       " 0.05115780606865883,\n",
       " 0.07591526955366135,\n",
       " 0.037660930305719376,\n",
       " -0.026323532685637474,\n",
       " -0.0060433316975831985,\n",
       " -0.0635593980550766,\n",
       " 0.024236151948571205,\n",
       " -0.018433338031172752,\n",
       " -0.07537619769573212,\n",
       " 0.020151177421212196,\n",
       " 0.044248636811971664,\n",
       " -0.055580008774995804,\n",
       " -0.009857946075499058,\n",
       " 0.024429071694612503,\n",
       " -0.0678430125117302,\n",
       " 0.005527735222131014,\n",
       " -0.05108940601348877,\n",
       " 0.06739599257707596,\n",
       " -0.009822611697018147,\n",
       " 0.0030173189006745815,\n",
       " -0.04593724012374878,\n",
       " 0.036316100507974625,\n",
       " 0.06342120468616486,\n",
       " 0.031216328963637352,\n",
       " 0.06105330213904381,\n",
       " -0.0077704135328531265,\n",
       " -0.0760091096162796,\n",
       " 0.07812486588954926,\n",
       " 0.05096549540758133,\n",
       " -0.011921793222427368,\n",
       " -0.07046797126531601,\n",
       " 0.03065180778503418,\n",
       " -0.07231288403272629,\n",
       " -0.006328128278255463,\n",
       " -0.07820558547973633,\n",
       " -0.057873181998729706,\n",
       " -0.07168687880039215,\n",
       " 0.032976552844047546,\n",
       " -0.004058996215462685,\n",
       " 0.10627299547195435,\n",
       " 0.01937677524983883,\n",
       " -0.08640449494123459,\n",
       " 0.07419553399085999,\n",
       " 0.0066412040032446384,\n",
       " 0.07202832400798798,\n",
       " -0.029418274760246277,\n",
       " -0.06624358892440796,\n",
       " -0.0014583028387278318,\n",
       " -0.005791356321424246,\n",
       " -0.004112826660275459,\n",
       " -0.017749711871147156,\n",
       " -0.0035698001738637686,\n",
       " 0.07212237268686295,\n",
       " -0.00037692522164434195,\n",
       " -0.034092746675014496,\n",
       " 0.08170920610427856,\n",
       " 0.007292300462722778,\n",
       " -0.05173364281654358,\n",
       " 0.07893036305904388,\n",
       " -0.016254348680377007,\n",
       " -0.07243922352790833,\n",
       " 0.004825658164918423,\n",
       " 0.018787706270813942,\n",
       " -0.014658589847385883,\n",
       " -0.0552196204662323,\n",
       " 0.07800332456827164,\n",
       " -0.046826720237731934,\n",
       " 0.01059031579643488,\n",
       " -0.004708696622401476,\n",
       " -0.02729177102446556,\n",
       " -0.009495260193943977,\n",
       " -0.004399747587740421,\n",
       " 0.03815743327140808,\n",
       " -0.06863660365343094,\n",
       " -0.06208061799407005,\n",
       " -0.02988491952419281,\n",
       " 0.016259055584669113,\n",
       " -0.03128949552774429,\n",
       " 0.08176662772893906,\n",
       " 0.035891056060791016,\n",
       " 0.0683625191450119,\n",
       " -0.008870081044733524,\n",
       " -0.03792297840118408,\n",
       " -0.007778116501867771,\n",
       " 0.021644121035933495,\n",
       " -0.0393240861594677,\n",
       " 0.05991585552692413,\n",
       " 0.07765407860279083,\n",
       " 0.04184708371758461,\n",
       " -0.05321524664759636,\n",
       " 0.055086828768253326,\n",
       " -0.0011799664935097098,\n",
       " 0.024330684915184975,\n",
       " 0.012128992937505245,\n",
       " -0.09281691163778305,\n",
       " -0.041872456669807434,\n",
       " 0.01441986858844757,\n",
       " 0.10792313516139984,\n",
       " -0.05857188627123833,\n",
       " -0.052777472883462906,\n",
       " -0.0011795199243351817,\n",
       " -0.03828969970345497,\n",
       " -0.0882222130894661,\n",
       " -0.028608551248908043,\n",
       " -0.04233115538954735,\n",
       " -0.04762641340494156,\n",
       " -2.1239123967534873e-33,\n",
       " -0.07247255742549896,\n",
       " -0.03096218779683113,\n",
       " 0.0957602933049202,\n",
       " 0.021861247718334198,\n",
       " 0.006145658437162638,\n",
       " 0.012245011515915394,\n",
       " -0.0019417076837271452,\n",
       " -0.002692664274945855,\n",
       " -0.10490468144416809,\n",
       " 0.0005707396194338799,\n",
       " -0.035572174936532974,\n",
       " -0.016728930175304413,\n",
       " -0.07533716410398483,\n",
       " 0.07833807915449142,\n",
       " 0.02047230489552021,\n",
       " -0.01613784395158291,\n",
       " 0.01831125281751156,\n",
       " 0.0030426066368818283,\n",
       " -0.045993365347385406,\n",
       " -0.034698743373155594,\n",
       " -0.04594094306230545,\n",
       " -0.0017328426474705338,\n",
       " 0.030761083588004112,\n",
       " 0.001761811668984592,\n",
       " -0.027470998466014862,\n",
       " 0.05100395530462265,\n",
       " 0.0017134564695879817,\n",
       " 0.003294231602922082,\n",
       " 0.0157922450453043,\n",
       " 0.0347198024392128,\n",
       " -0.12710881233215332,\n",
       " 0.020848706364631653,\n",
       " 0.062403444200754166,\n",
       " -0.05950218811631203,\n",
       " 0.023517325520515442,\n",
       " -0.01640099659562111,\n",
       " 0.047728531062603,\n",
       " -0.026791123673319817,\n",
       " -0.05019848421216011,\n",
       " -0.10780937224626541,\n",
       " 0.020944178104400635,\n",
       " -0.028840322047472,\n",
       " -0.07655136287212372,\n",
       " 0.031876493245363235,\n",
       " -0.0280243419110775,\n",
       " 0.026715924963355064,\n",
       " 0.024083135649561882,\n",
       " -0.004015871789306402,\n",
       " 0.025378452613949776,\n",
       " 0.021108681336045265,\n",
       " -0.10386043787002563,\n",
       " 0.02781827375292778,\n",
       " 0.01128295622766018,\n",
       " 0.1227652058005333,\n",
       " -0.022057266905903816,\n",
       " -0.07438267767429352,\n",
       " -0.00994931161403656,\n",
       " 0.021013736724853516,\n",
       " 0.0040357597172260284,\n",
       " -0.019968193024396896,\n",
       " 0.012318284250795841,\n",
       " 0.08660749346017838,\n",
       " -0.006793948821723461,\n",
       " -0.05837889015674591,\n",
       " 0.019604599103331566,\n",
       " 0.0477256141602993,\n",
       " 0.03158169612288475,\n",
       " 0.04530089348554611,\n",
       " 0.045676007866859436,\n",
       " -0.004172947257757187,\n",
       " -0.0866260826587677,\n",
       " 0.01716061867773533,\n",
       " -0.014071570709347725,\n",
       " -0.02767856791615486,\n",
       " 0.06959391385316849,\n",
       " -0.013159440830349922,\n",
       " -0.005156582221388817,\n",
       " 0.0033451823983341455,\n",
       " 0.026606569066643715,\n",
       " -0.026176495477557182,\n",
       " 0.08115863054990768,\n",
       " -0.038623563945293427,\n",
       " -0.07063371688127518,\n",
       " -0.029464349150657654,\n",
       " -0.05043724551796913,\n",
       " -0.06321360170841217,\n",
       " 0.13226056098937988,\n",
       " -0.10334788262844086,\n",
       " 0.017256559804081917,\n",
       " -0.015556174330413342,\n",
       " -0.1191253736615181,\n",
       " -0.02379036508500576,\n",
       " 0.00150504638440907,\n",
       " 0.02370355650782585,\n",
       " 0.06080479547381401,\n",
       " -1.952213263387653e-33,\n",
       " 0.022353651002049446,\n",
       " -0.03210586681962013,\n",
       " -0.009151671081781387,\n",
       " 0.07595629245042801,\n",
       " 0.0028825560584664345,\n",
       " -0.03443498536944389,\n",
       " 0.0025767909828573465,\n",
       " 0.013358901254832745,\n",
       " 0.040155697613954544,\n",
       " 0.007906933315098286,\n",
       " 0.009182734414935112,\n",
       " -0.024631213396787643,\n",
       " 0.02378327213227749,\n",
       " 0.008277414366602898,\n",
       " 0.009930928237736225,\n",
       " 0.05929936468601227,\n",
       " -0.004738389048725367,\n",
       " -0.08897839486598969,\n",
       " -0.06604447960853577,\n",
       " -0.042149726301431656,\n",
       " 0.07055359333753586,\n",
       " 0.10265295207500458,\n",
       " 0.018520085141062737,\n",
       " 0.01781962439417839,\n",
       " -0.03504800423979759,\n",
       " 0.05221359059214592,\n",
       " 0.09117455780506134,\n",
       " -0.05923585966229439,\n",
       " -0.04910119250416756,\n",
       " 0.012811614200472832,\n",
       " -0.04608447849750519,\n",
       " -0.021942542865872383,\n",
       " 0.05538836866617203,\n",
       " 0.089809350669384,\n",
       " -0.01911766268312931,\n",
       " -0.02745339646935463,\n",
       " 0.04299066588282585,\n",
       " 0.05196061730384827,\n",
       " -0.007944505661725998,\n",
       " -0.05593732371926308,\n",
       " -0.009543349966406822,\n",
       " 0.04910096526145935,\n",
       " 0.014978588558733463,\n",
       " 0.03693169727921486,\n",
       " -0.03622262924909592,\n",
       " -0.013271908275783062,\n",
       " 0.06746421009302139,\n",
       " -0.0014240809250622988,\n",
       " -0.004700651858001947,\n",
       " 0.10322000086307526,\n",
       " -0.04285145923495293,\n",
       " -0.005523949395865202,\n",
       " -0.020397096872329712,\n",
       " 0.020713122561573982,\n",
       " -0.019392196089029312,\n",
       " 0.0009286486892960966,\n",
       " -0.0334077812731266,\n",
       " -0.08276007324457169,\n",
       " -0.01852245442569256,\n",
       " 0.06968327611684799,\n",
       " -0.002416900359094143,\n",
       " 0.07162250578403473,\n",
       " -0.11273584514856339,\n",
       " -0.04357243701815605,\n",
       " 0.018463654443621635,\n",
       " -0.02234516851603985,\n",
       " 0.027128638699650764,\n",
       " -0.05879433825612068,\n",
       " -0.0387004055082798,\n",
       " -0.020447498187422752,\n",
       " -0.023005619645118713,\n",
       " -0.0015834048390388489,\n",
       " 0.10899855941534042,\n",
       " -0.027853619307279587,\n",
       " 0.06856979429721832,\n",
       " 0.00727090472355485,\n",
       " 0.04257126525044441,\n",
       " 0.013894026167690754,\n",
       " -0.030871961265802383,\n",
       " 0.05122397840023041,\n",
       " 0.04841809347271919,\n",
       " -0.0505644828081131,\n",
       " 0.08925262093544006,\n",
       " 0.01931947097182274,\n",
       " 0.05404951795935631,\n",
       " -0.05920051783323288,\n",
       " -0.010553263127803802,\n",
       " 0.02450382709503174,\n",
       " -0.025912951678037643,\n",
       " 0.03027251735329628,\n",
       " 0.005056881345808506,\n",
       " 0.048980068415403366,\n",
       " -0.008715277537703514,\n",
       " -0.03921814635396004,\n",
       " 0.05885094404220581,\n",
       " -5.034082661836692e-08,\n",
       " 0.0320858396589756,\n",
       " 0.062269702553749084,\n",
       " 0.029174992814660072,\n",
       " 0.02085091732442379,\n",
       " 0.08458151668310165,\n",
       " 0.03729790821671486,\n",
       " 0.00488151703029871,\n",
       " 0.05022972449660301,\n",
       " -0.11522174626588821,\n",
       " 0.03687383979558945,\n",
       " 0.07384568452835083,\n",
       " -0.03556030988693237,\n",
       " -0.09163578599691391,\n",
       " 0.03369024395942688,\n",
       " -0.031005045399069786,\n",
       " -0.14000293612480164,\n",
       " 0.004287573043256998,\n",
       " 0.13892075419425964,\n",
       " -0.033398110419511795,\n",
       " -0.040610723197460175,\n",
       " -0.05517052486538887,\n",
       " -0.009986018761992455,\n",
       " 0.14152303338050842,\n",
       " -0.0630917176604271,\n",
       " -0.054798565804958344,\n",
       " 0.027439340949058533,\n",
       " -0.069580078125,\n",
       " 0.03395399823784828,\n",
       " -0.013836783356964588,\n",
       " -0.0009296557982452214,\n",
       " 0.06894071400165558,\n",
       " 0.07618439197540283,\n",
       " 0.0734899640083313,\n",
       " -0.08157551288604736,\n",
       " -0.04149499535560608,\n",
       " 0.008536686189472675,\n",
       " 0.015394792892038822,\n",
       " 0.033205870538949966,\n",
       " 0.023507045581936836,\n",
       " -0.03728698194026947,\n",
       " -0.05807587876915932,\n",
       " -0.12964461743831635,\n",
       " -0.017462916672229767,\n",
       " 0.04654517397284508,\n",
       " -0.07722079753875732,\n",
       " 0.07502991706132889,\n",
       " 0.05343693122267723,\n",
       " 0.039303336292505264,\n",
       " -0.035155363380908966,\n",
       " 0.036898959428071976,\n",
       " 0.028245333582162857,\n",
       " -0.06017454341053963,\n",
       " 0.0034423847682774067,\n",
       " 0.0768551155924797,\n",
       " 0.0023947888985276222,\n",
       " -0.0027599132154136896,\n",
       " -0.1175125390291214,\n",
       " -0.04063737392425537,\n",
       " -0.05009359493851662,\n",
       " 0.08244149386882782,\n",
       " 0.06885877251625061,\n",
       " -0.10385140776634216,\n",
       " -0.07009010761976242,\n",
       " 0.06697794049978256]"
      ]
     },
     "execution_count": 15,
     "metadata": {},
     "output_type": "execute_result"
    }
   ],
   "source": [
    "%%time\n",
    "vector = embeddings.embed_query(all_splits[0].page_content)"
   ]
  },
  {
   "cell_type": "code",
   "execution_count": 24,
   "metadata": {},
   "outputs": [],
   "source": [
    "from langchain_chroma import Chroma\n",
    "persist_directory = './chroma_vectorstore/'\n",
    "vectorstore = Chroma.from_documents(documents=all_splits, embedding=embeddings,persist_directory=persist_directory)"
   ]
  },
  {
   "cell_type": "code",
   "execution_count": 11,
   "metadata": {},
   "outputs": [],
   "source": [
    "### Load the vectorstore\n",
    "from langchain_chroma import Chroma\n",
    "persist_directory = './chroma_vectorstore/'\n",
    "vectorstore = Chroma(persist_directory=persist_directory,embedding_function=embeddings)"
   ]
  },
  {
   "cell_type": "markdown",
   "metadata": {},
   "source": [
    "---"
   ]
  },
  {
   "cell_type": "markdown",
   "metadata": {},
   "source": [
    "## Retrieval and Generation"
   ]
  },
  {
   "cell_type": "code",
   "execution_count": 12,
   "metadata": {},
   "outputs": [],
   "source": [
    "query = \"I am looking for a gift for my 30 year old mom. She loves makeup and has a light skin. she loves the friends show\""
   ]
  },
  {
   "cell_type": "code",
   "execution_count": 13,
   "metadata": {},
   "outputs": [
    {
     "data": {
      "text/plain": [
       "6"
      ]
     },
     "execution_count": 13,
     "metadata": {},
     "output_type": "execute_result"
    }
   ],
   "source": [
    "retriever = vectorstore.as_retriever(search_type=\"similarity\",search_kwargs={\"k\":6})\n",
    "retrieved_docs=retriever.invoke(query)\n",
    "len(retrieved_docs)"
   ]
  },
  {
   "cell_type": "markdown",
   "metadata": {},
   "source": [
    "---"
   ]
  },
  {
   "cell_type": "markdown",
   "metadata": {},
   "source": [
    "## RAG"
   ]
  },
  {
   "cell_type": "code",
   "execution_count": 14,
   "metadata": {},
   "outputs": [],
   "source": [
    "from langchain_openai import ChatOpenAI\n",
    "\n",
    "llm=ChatOpenAI(base_url=\"https://api.together.xyz/v1\",api_key=os.getenv(\"TOGETHER_API_KEY\"),model=\"meta-llama/Llama-Vision-Free\")"
   ]
  },
  {
   "cell_type": "code",
   "execution_count": 15,
   "metadata": {},
   "outputs": [],
   "source": [
    "from langchain.chains import RetrievalQA\n",
    "\n",
    "qa_chain = RetrievalQA.from_chain_type(llm, retriever=vectorstore.as_retriever())"
   ]
  },
  {
   "cell_type": "code",
   "execution_count": 89,
   "metadata": {},
   "outputs": [],
   "source": [
    "from langchain.memory import ConversationBufferMemory\n",
    "memory = ConversationBufferMemory(\n",
    "    input_key=\"question\",\n",
    "    memory_key=\"history\",\n",
    "    #output_key=\"result\",\n",
    "    return_messages=True,\n",
    ")"
   ]
  },
  {
   "cell_type": "code",
   "execution_count": 65,
   "metadata": {},
   "outputs": [],
   "source": [
    "question = \"I am looking for a gift for my 30 year old mom. She loves makeup and has a light skin. she loves the friends show\""
   ]
  },
  {
   "cell_type": "code",
   "execution_count": 96,
   "metadata": {},
   "outputs": [],
   "source": [
    "from langchain.prompts import PromptTemplate\n",
    "\n",
    "# Build prompt\n",
    "\n",
    "template = \"\"\"You are an intelligent gift recommendation assistant designed to help users find the perfect gifts based on their preferences, interests, and occasions. Your goal is to provide personalized gift suggestions by retrieving relevant information from a vast database of a retailer's products and combining it with natural language generation to create engaging and informative responses.\n",
    "\n",
    "User Preferences: Begin by gathering information about the user's preferences. Ask questions related to the recipient’s age, gender, interests, hobbies, and any specific occasions (e.g., birthdays, anniversaries, holidays).\n",
    "\n",
    "Product Retrieval: Utilize the retailer's catalog to retrieve a curated list of products that match the user's criteria. Ensure the recommendations cover various categories. Recommend preferably and when you have the choice high rated products. Always remember the products are from the retailer's catalog and are not given by the user.\n",
    "\n",
    "Personalized Suggestions: Generate personalized gift suggestions with clear and concise descriptions of each item. Assume that the user may not be familiar with the products, so include relevant details like features, benefits, and why each item would make a great gift for the recipient.\n",
    "\n",
    "Contextual Information: Provide context for each recommendation, such as the target audience (e.g., kids, teenagers, adults) and any trending attributes (e.g., popularity, user ratings) that may help the user make an informed decision.\n",
    "\n",
    "Follow-up Questions: Encourage user interaction by asking follow-up questions to refine suggestions further. This may include inquiring about the recipient’s preferences for brands, styles, or colors.\n",
    "\n",
    "Feedback Loop: Implement a feedback mechanism where users can rate suggestions and provide comments. Use this feedback to improve future recommendations.\n",
    "\n",
    "Tone and Style: Maintain a friendly, engaging, and conversational tone throughout the interaction to make the experience enjoyable for the user. Use simple language that is easy to understand, avoiding jargon or technical terms.\n",
    "\n",
    "Remember to keep the conversation flowing naturally, and be ready to adapt your responses based on user input. Your goal is to help users find a gift that will delight the recipient, making their shopping experience seamless and enjoyable!\n",
    "Question: {question}\n",
    "Context: {context}\n",
    "history: {history}\n",
    "Helpful Answer:\"\"\"\n",
    "QA_CHAIN_PROMPT = PromptTemplate(\n",
    "    input_variables=[\"history\", \"context\", \"question\"],\n",
    "    template=template,\n",
    ")\n",
    "\n",
    "\n",
    "# Run chain\n",
    "qa_chain = RetrievalQA.from_chain_type(\n",
    "    llm,\n",
    "    retriever=vectorstore.as_retriever(),\n",
    "    return_source_documents=True,\n",
    "    chain_type_kwargs={\"prompt\": QA_CHAIN_PROMPT,\"verbose\":True,\"memory\":memory})"
   ]
  },
  {
   "cell_type": "code",
   "execution_count": 91,
   "metadata": {},
   "outputs": [
    {
     "name": "stdout",
     "output_type": "stream",
     "text": [
      "\n",
      "\n",
      "\u001b[1m> Entering new StuffDocumentsChain chain...\u001b[0m\n",
      "\n",
      "\n",
      "\u001b[1m> Entering new LLMChain chain...\u001b[0m\n",
      "Prompt after formatting:\n",
      "\u001b[32;1m\u001b[1;3mYou are an intelligent gift recommendation assistant designed to help users find the perfect gifts based on their preferences, interests, and occasions. Your goal is to provide personalized gift suggestions by retrieving relevant information from a vast database of a retailer's products and combining it with natural language generation to create engaging and informative responses.\n",
      "\n",
      "User Preferences: Begin by gathering information about the user's preferences. Ask questions related to the recipient’s age, gender, interests, hobbies, and any specific occasions (e.g., birthdays, anniversaries, holidays).\n",
      "\n",
      "Product Retrieval: Utilize the retailer's catalog to retrieve a curated list of products that match the user's criteria. Ensure the recommendations cover various categories. Always remember the products are from the retailer's catalog and are not given by the user.\n",
      "\n",
      "Personalized Suggestions: Generate personalized gift suggestions with clear and concise descriptions of each item. Assume that the user may not be familiar with the products, so include relevant details like features, benefits, and why each item would make a great gift for the recipient.\n",
      "\n",
      "Contextual Information: Provide context for each recommendation, such as the target audience (e.g., kids, teenagers, adults) and any trending attributes (e.g., popularity, user ratings) that may help the user make an informed decision.\n",
      "\n",
      "Follow-up Questions: Encourage user interaction by asking follow-up questions to refine suggestions further. This may include inquiring about the recipient’s preferences for brands, styles, or colors.\n",
      "\n",
      "Feedback Loop: Implement a feedback mechanism where users can rate suggestions and provide comments. Use this feedback to improve future recommendations.\n",
      "\n",
      "Tone and Style: Maintain a friendly, engaging, and conversational tone throughout the interaction to make the experience enjoyable for the user. Use simple language that is easy to understand, avoiding jargon or technical terms.\n",
      "\n",
      "Remember to keep the conversation flowing naturally, and be ready to adapt your responses based on user input. Your goal is to help users find a gift that will delight the recipient, making their shopping experience seamless and enjoyable!\n",
      "Question: I am looking for a gift for my 30 year old mom. She loves makeup and has a light skin. she loves the friends show\n",
      "Context: parent_asin: B01LMMYQWW\n",
      "average_rating: 4.4\n",
      "main_category: All Beauty\n",
      "title: Theatrical Makeup Kits - Fair: Light PK-1\n",
      "comment: and she loved this kit for Christmas My Granddaughter is in to make up big time, and she loved this kit for Christmas. I want to get her a more involved kit when it gets warmer to ship the liquid bottles.\n",
      "\n",
      "parent_asin: B00QW1W1CQ\n",
      "average_rating: 5.0\n",
      "main_category: All Beauty\n",
      "title: Lady De Exclusive Leopard Skin Makeup Kit, Dance Kit 2\n",
      "comment: Five Stars vey good product I would definitely recommend it for a young girl to play with This not only met but exceeded my expectations! My 10 yo daughter absolutely loves it😍 Even my 17 year old daughter has used it and she is usually picky about her makeup. I would definitely recommend it for a young girl to play with. And the case is absolutely adorable\n",
      "\n",
      "parent_asin: B08JCV51TF\n",
      "average_rating: 4.6\n",
      "main_category: All Beauty\n",
      "title: Makeup Revolution X Friends Eyeshadow Palette (Rachel)\n",
      "comment: Good product, overpriced. Purchased this as a birthday gift for my teen niece. Returned when my daughter informed me that Ulta sells it for less than 1/2 this price. 4 stars for fast shipping and ease of return. Love this collab! I got this for my mom for her birthday since she’s obsessed with friends and always has her makeup done!! I got her the whole line and I cannot wait to see her reaction! Makeup revolution is a good brand and this collab is such a cute idea!!\n",
      "\n",
      "you can easily find them at the drugstore. standard nye student starter kit Wish there were a little more base. Otherwise good product especially for new performers. Easy order fast delivery, did not have to hunt one down locally. Nice kit It was smaller than I expected but the information about doing the makeup and the concealer were very good. It is a small kit and is great for travel The first time I ordered fair/medium and it was too dark. I ordered for my daughter who is fair skinned with dark eyes and dark hair. She wears a light everyday foundation, so I  should have ordered light for stage make up. It is a small kit and is great for travel. Five Stars The best theater make up money can buy. Five Stars The best theater make up money can buy. Great for student actors! My eleven-year-old granddaughter has been bitten by the theater bug, just as I was long (long!) ago. I was thrilled at the time to get my very own stage makeup. This a very basic kit, but learning the basics of stage makeup first is the right way to go, IMO.<br /><br />I have not yet opened the kit. It is for her upcoming birthday. But its clear packaging allow me to confirm that it is complete and undamaged. If anything goes wrong I will be back to edit this review, but otherwise you can assume that the makeup is easy and safe to use.<br /><br />I think that giving my granddaughter this gives me a chance to affirm her newly-discovered world of the theater and to shout my encouragement from the sidelines.\n",
      "history: []\n",
      "Helpful Answer:\u001b[0m\n",
      "\n",
      "\u001b[1m> Finished chain.\u001b[0m\n",
      "\n",
      "\u001b[1m> Finished chain.\u001b[0m\n"
     ]
    }
   ],
   "source": [
    "result = qa_chain({\"query\": question})"
   ]
  },
  {
   "cell_type": "code",
   "execution_count": 92,
   "metadata": {},
   "outputs": [
    {
     "data": {
      "text/plain": [
       "{'query': 'I am looking for a gift for my 30 year old mom. She loves makeup and has a light skin. she loves the friends show',\n",
       " 'result': \"It sounds like your mom would love some makeup goodies, especially since she's a fan of Friends! I've got some gift ideas that might just make her day.\\n\\nBased on your input, I've selected a few products from our retailer's catalog that cater to her interests and skin tone. Here are my top recommendations:\\n\\n1. **Makeup Revolution X Friends Eyeshadow Palette (Rachel)**: This palette is a great gift for any Friends fan, and it's perfect for everyday wear. It features 12 eyeshadows in a range of neutral shades, from light to dark. The palette is compact and travel-friendly, making it a great addition to any makeup bag. ($25)\\n\\t* Target audience: Adults, especially Friends fans\\n\\t* Trending attribute: Collaborations are always popular, and this one is a must-have for any Friends enthusiast\\n2. **Lady De Exclusive Leopard Skin Makeup Kit, Dance Kit 2**: While this kit is geared towards younger girls, I think your mom would appreciate the fun and playful design. The kit includes a variety of makeup products, including eyeshadows, lip gloss, and a compact mirror. The leopard skin design is adorable, and the kit is a great starting point for anyone looking to explore makeup. ($35)\\n\\t* Target audience: Adults who love makeup and want to try new products\\n\\t* Trending attribute: Fun and unique designs are always in demand\\n3. **Theatrical Makeup Kits - Fair: Light PK-1**: Since your mom enjoys makeup, I thought this kit would be a great way to encourage her creativity. The kit includes a range of makeup products, including foundation, concealer, and powder, all designed to help her achieve a flawless, theatrical look. The kit is also a great value, considering the number of products included. ($40)\\n\\t* Target audience: Adults who enjoy makeup and want to try new techniques\\n\\t* Trending attribute: Theatrical makeup is always in demand, and this kit is a great starting point for anyone looking to explore the world of stage makeup\\n\\nBefore I finalize these recommendations, I have a few follow-up questions to ensure I get it just right:\\n\\n* Would you prefer your mom to receive a single product or a kit with multiple items?\\n* Are there any specific brands or products you'd like me to consider?\\n* Would you like me to suggest any additional products or categories that might interest your mom?\\n\\nLet me know your thoughts, and I'll be happy to refine my recommendations!\",\n",
       " 'source_documents': [Document(metadata={'row': 10104, 'source': './Data/beauty_test_amazon.csv', 'start_index': 0}, page_content='parent_asin: B01LMMYQWW\\naverage_rating: 4.4\\nmain_category: All Beauty\\ntitle: Theatrical Makeup Kits - Fair: Light PK-1\\ncomment: and she loved this kit for Christmas My Granddaughter is in to make up big time, and she loved this kit for Christmas. I want to get her a more involved kit when it gets warmer to ship the liquid bottles.'),\n",
       "  Document(metadata={'row': 17395, 'source': './Data/beauty_test_amazon.csv', 'start_index': 0}, page_content='parent_asin: B00QW1W1CQ\\naverage_rating: 5.0\\nmain_category: All Beauty\\ntitle: Lady De Exclusive Leopard Skin Makeup Kit, Dance Kit 2\\ncomment: Five Stars vey good product I would definitely recommend it for a young girl to play with This not only met but exceeded my expectations! My 10 yo daughter absolutely loves it😍 Even my 17 year old daughter has used it and she is usually picky about her makeup. I would definitely recommend it for a young girl to play with. And the case is absolutely adorable'),\n",
       "  Document(metadata={'row': 8499, 'source': './Data/beauty_test_amazon.csv', 'start_index': 0}, page_content='parent_asin: B08JCV51TF\\naverage_rating: 4.6\\nmain_category: All Beauty\\ntitle: Makeup Revolution X Friends Eyeshadow Palette (Rachel)\\ncomment: Good product, overpriced. Purchased this as a birthday gift for my teen niece. Returned when my daughter informed me that Ulta sells it for less than 1/2 this price. 4 stars for fast shipping and ease of return. Love this collab! I got this for my mom for her birthday since she’s obsessed with friends and always has her makeup done!! I got her the whole line and I cannot wait to see her reaction! Makeup revolution is a good brand and this collab is such a cute idea!!'),\n",
       "  Document(metadata={'row': 10038, 'source': './Data/beauty_test_amazon.csv', 'start_index': 1519}, page_content='you can easily find them at the drugstore. standard nye student starter kit Wish there were a little more base. Otherwise good product especially for new performers. Easy order fast delivery, did not have to hunt one down locally. Nice kit It was smaller than I expected but the information about doing the makeup and the concealer were very good. It is a small kit and is great for travel The first time I ordered fair/medium and it was too dark. I ordered for my daughter who is fair skinned with dark eyes and dark hair. She wears a light everyday foundation, so I  should have ordered light for stage make up. It is a small kit and is great for travel. Five Stars The best theater make up money can buy. Five Stars The best theater make up money can buy. Great for student actors! My eleven-year-old granddaughter has been bitten by the theater bug, just as I was long (long!) ago. I was thrilled at the time to get my very own stage makeup. This a very basic kit, but learning the basics of stage makeup first is the right way to go, IMO.<br /><br />I have not yet opened the kit. It is for her upcoming birthday. But its clear packaging allow me to confirm that it is complete and undamaged. If anything goes wrong I will be back to edit this review, but otherwise you can assume that the makeup is easy and safe to use.<br /><br />I think that giving my granddaughter this gives me a chance to affirm her newly-discovered world of the theater and to shout my encouragement from the sidelines.')]}"
      ]
     },
     "execution_count": 92,
     "metadata": {},
     "output_type": "execute_result"
    }
   ],
   "source": [
    "result"
   ]
  },
  {
   "cell_type": "code",
   "execution_count": 93,
   "metadata": {},
   "outputs": [
    {
     "name": "stdout",
     "output_type": "stream",
     "text": [
      "\n",
      "\n",
      "\u001b[1m> Entering new StuffDocumentsChain chain...\u001b[0m\n",
      "\n",
      "\n",
      "\u001b[1m> Entering new LLMChain chain...\u001b[0m\n",
      "Prompt after formatting:\n",
      "\u001b[32;1m\u001b[1;3mYou are an intelligent gift recommendation assistant designed to help users find the perfect gifts based on their preferences, interests, and occasions. Your goal is to provide personalized gift suggestions by retrieving relevant information from a vast database of a retailer's products and combining it with natural language generation to create engaging and informative responses.\n",
      "\n",
      "User Preferences: Begin by gathering information about the user's preferences. Ask questions related to the recipient’s age, gender, interests, hobbies, and any specific occasions (e.g., birthdays, anniversaries, holidays).\n",
      "\n",
      "Product Retrieval: Utilize the retailer's catalog to retrieve a curated list of products that match the user's criteria. Ensure the recommendations cover various categories. Always remember the products are from the retailer's catalog and are not given by the user.\n",
      "\n",
      "Personalized Suggestions: Generate personalized gift suggestions with clear and concise descriptions of each item. Assume that the user may not be familiar with the products, so include relevant details like features, benefits, and why each item would make a great gift for the recipient.\n",
      "\n",
      "Contextual Information: Provide context for each recommendation, such as the target audience (e.g., kids, teenagers, adults) and any trending attributes (e.g., popularity, user ratings) that may help the user make an informed decision.\n",
      "\n",
      "Follow-up Questions: Encourage user interaction by asking follow-up questions to refine suggestions further. This may include inquiring about the recipient’s preferences for brands, styles, or colors.\n",
      "\n",
      "Feedback Loop: Implement a feedback mechanism where users can rate suggestions and provide comments. Use this feedback to improve future recommendations.\n",
      "\n",
      "Tone and Style: Maintain a friendly, engaging, and conversational tone throughout the interaction to make the experience enjoyable for the user. Use simple language that is easy to understand, avoiding jargon or technical terms.\n",
      "\n",
      "Remember to keep the conversation flowing naturally, and be ready to adapt your responses based on user input. Your goal is to help users find a gift that will delight the recipient, making their shopping experience seamless and enjoyable!\n",
      "Question: What do you remember from our conversation?\n",
      "Context: parent_asin: B001RMTCSQ\n",
      "average_rating: 5.0\n",
      "main_category: All Beauty\n",
      "title: Anne Taintor You Be Thelma Key Ring\n",
      "comment: Hilarious Gift I gave this keyring to my friend of 20 years.  I think it speaks for itself.  She was very pleased!\n",
      "\n",
      "parent_asin: B00J1TSNZU\n",
      "average_rating: 3.0\n",
      "main_category: All Beauty\n",
      "title: (Limited Time) Stud Earrings--2 Pairs--Gift Box Included\n",
      "comment:\n",
      "\n",
      "parent_asin: B08CMCSM68\n",
      "average_rating: 4.4\n",
      "main_category: All Beauty\n",
      "title: Peeps 3 Flavored Lip Balm Gift Tin\n",
      "comment: Just what she wanted!! Liked it all.\n",
      "\n",
      "parent_asin: B0168Z19XM\n",
      "average_rating: 1.0\n",
      "main_category: All Beauty\n",
      "title: Relax I've Goat Got This Compact\n",
      "comment:\n",
      "history: [HumanMessage(content='I am looking for a gift for my 30 year old mom. She loves makeup and has a light skin. she loves the friends show', additional_kwargs={}, response_metadata={}), AIMessage(content=\"It sounds like your mom would love some makeup goodies, especially since she's a fan of Friends! I've got some gift ideas that might just make her day.\\n\\nBased on your input, I've selected a few products from our retailer's catalog that cater to her interests and skin tone. Here are my top recommendations:\\n\\n1. **Makeup Revolution X Friends Eyeshadow Palette (Rachel)**: This palette is a great gift for any Friends fan, and it's perfect for everyday wear. It features 12 eyeshadows in a range of neutral shades, from light to dark. The palette is compact and travel-friendly, making it a great addition to any makeup bag. ($25)\\n\\t* Target audience: Adults, especially Friends fans\\n\\t* Trending attribute: Collaborations are always popular, and this one is a must-have for any Friends enthusiast\\n2. **Lady De Exclusive Leopard Skin Makeup Kit, Dance Kit 2**: While this kit is geared towards younger girls, I think your mom would appreciate the fun and playful design. The kit includes a variety of makeup products, including eyeshadows, lip gloss, and a compact mirror. The leopard skin design is adorable, and the kit is a great starting point for anyone looking to explore makeup. ($35)\\n\\t* Target audience: Adults who love makeup and want to try new products\\n\\t* Trending attribute: Fun and unique designs are always in demand\\n3. **Theatrical Makeup Kits - Fair: Light PK-1**: Since your mom enjoys makeup, I thought this kit would be a great way to encourage her creativity. The kit includes a range of makeup products, including foundation, concealer, and powder, all designed to help her achieve a flawless, theatrical look. The kit is also a great value, considering the number of products included. ($40)\\n\\t* Target audience: Adults who enjoy makeup and want to try new techniques\\n\\t* Trending attribute: Theatrical makeup is always in demand, and this kit is a great starting point for anyone looking to explore the world of stage makeup\\n\\nBefore I finalize these recommendations, I have a few follow-up questions to ensure I get it just right:\\n\\n* Would you prefer your mom to receive a single product or a kit with multiple items?\\n* Are there any specific brands or products you'd like me to consider?\\n* Would you like me to suggest any additional products or categories that might interest your mom?\\n\\nLet me know your thoughts, and I'll be happy to refine my recommendations!\", additional_kwargs={}, response_metadata={})]\n",
      "Helpful Answer:\u001b[0m\n",
      "\n",
      "\u001b[1m> Finished chain.\u001b[0m\n",
      "\n",
      "\u001b[1m> Finished chain.\u001b[0m\n"
     ]
    }
   ],
   "source": [
    "result = qa_chain({\"query\": \"What do you remember from our conversation?\"})"
   ]
  },
  {
   "cell_type": "code",
   "execution_count": 95,
   "metadata": {},
   "outputs": [
    {
     "data": {
      "text/plain": [
       "{'query': 'What do you remember from our conversation?',\n",
       " 'result': \"It looks like we've had a nice conversation about gift ideas for your 30-year-old mom. I remember that she loves makeup and has a light skin tone, and she's also a fan of the TV show Friends.\\n\\nI provided you with three gift recommendations that cater to her interests and skin tone:\\n\\n1. **Makeup Revolution X Friends Eyeshadow Palette (Rachel)**: This compact eyeshadow palette is perfect for everyday wear and features 12 neutral shades.\\n2. **Lady De Exclusive Leopard Skin Makeup Kit, Dance Kit 2**: Although this kit is geared towards younger girls, the fun and playful design might appeal to your mom.\\n3. **Theatrical Makeup Kits - Fair: Light PK-1**: This kit includes a range of makeup products to help your mom achieve a flawless, theatrical look.\\n\\nBefore finalizing these recommendations, I asked a few follow-up questions to ensure I get it just right. Unfortunately, I don't see any follow-up responses from you. Would you like to answer those questions or provide any additional feedback on the recommendations I provided?\\n\\nIf you're ready to move forward, I can finalize these recommendations or suggest new ones based on your input.\",\n",
       " 'source_documents': [Document(metadata={'row': 2390, 'source': './Data/beauty_test_amazon.csv', 'start_index': 0}, page_content='parent_asin: B001RMTCSQ\\naverage_rating: 5.0\\nmain_category: All Beauty\\ntitle: Anne Taintor You Be Thelma Key Ring\\ncomment: Hilarious Gift I gave this keyring to my friend of 20 years.  I think it speaks for itself.  She was very pleased!'),\n",
       "  Document(metadata={'row': 1757, 'source': './Data/beauty_test_amazon.csv', 'start_index': 0}, page_content='parent_asin: B00J1TSNZU\\naverage_rating: 3.0\\nmain_category: All Beauty\\ntitle: (Limited Time) Stud Earrings--2 Pairs--Gift Box Included\\ncomment:'),\n",
       "  Document(metadata={'row': 3847, 'source': './Data/beauty_test_amazon.csv', 'start_index': 0}, page_content='parent_asin: B08CMCSM68\\naverage_rating: 4.4\\nmain_category: All Beauty\\ntitle: Peeps 3 Flavored Lip Balm Gift Tin\\ncomment: Just what she wanted!! Liked it all.'),\n",
       "  Document(metadata={'row': 19108, 'source': './Data/beauty_test_amazon.csv', 'start_index': 0}, page_content=\"parent_asin: B0168Z19XM\\naverage_rating: 1.0\\nmain_category: All Beauty\\ntitle: Relax I've Goat Got This Compact\\ncomment:\")]}"
      ]
     },
     "execution_count": 95,
     "metadata": {},
     "output_type": "execute_result"
    }
   ],
   "source": [
    "result"
   ]
  },
  {
   "cell_type": "markdown",
   "metadata": {},
   "source": [
    "---"
   ]
  }
 ],
 "metadata": {
  "kernelspec": {
   "display_name": ".venv",
   "language": "python",
   "name": "python3"
  },
  "language_info": {
   "codemirror_mode": {
    "name": "ipython",
    "version": 3
   },
   "file_extension": ".py",
   "mimetype": "text/x-python",
   "name": "python",
   "nbconvert_exporter": "python",
   "pygments_lexer": "ipython3",
   "version": "3.11.6"
  }
 },
 "nbformat": 4,
 "nbformat_minor": 2
}
